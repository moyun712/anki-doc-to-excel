{
 "cells": [
  {
   "cell_type": "code",
   "execution_count": 1,
   "metadata": {},
   "outputs": [],
   "source": [
    "import pandas as pd\n",
    "from docx import Document"
   ]
  },
  {
   "cell_type": "code",
   "execution_count": 2,
   "metadata": {},
   "outputs": [],
   "source": [
    "import re\n",
    "\n",
    "def check_word(content):\n",
    "    # 定义正则表达式\n",
    "    pattern_1 = re.compile(r'(?:单\\s*词突围第\\s*\\d+.天)', re.IGNORECASE)\n",
    "    pattern_2 = re.compile(r'Part\\d+', re.IGNORECASE)\n",
    "    \n",
    "    # 检查content是否包含指定的字符串\n",
    "    if pattern_2.search(content):\n",
    "        return True\n",
    "   \n",
    "\n",
    "    # 检查content是否包含指定的字符串\n",
    "    if pattern_1.search(content):\n",
    "        return True\n",
    "   \n",
    "        \n",
    "    # 检查content是否只包含空格和特殊符号\n",
    "    if content.strip() == '':\n",
    "        return True\n",
    "    \n",
    "    # 如果以上条件都不满足，则返回False\n",
    "    return False\n"
   ]
  },
  {
   "cell_type": "code",
   "execution_count": 3,
   "metadata": {},
   "outputs": [],
   "source": [
    "import re\n",
    "# 检测单词和示意   \n",
    "def check_words(content):\n",
    "    pattern = re.compile(r'^[a-zA-Z]+$')\n",
    "    if(pattern.search(content)):\n",
    "        return True\n",
    "    else:\n",
    "        return False"
   ]
  },
  {
   "cell_type": "code",
   "execution_count": 39,
   "metadata": {},
   "outputs": [],
   "source": [
    "# 定义一个函数来合并单元格并保留原内容\n",
    "# def merge_cells(df, start_row, end_row, column):\n",
    "#     merged_content = '\\n'.join(df.loc[start_row:end_row, column])\n",
    "#     df.loc[start_row:end_row, column] = merged_content\n",
    "# 定义一个函数来合并单元格并保留原内容\n",
    "def merge_dict_cells(data, start_row, end_row, column):\n",
    "    merged_content = '\\n'.join(data[column][start_row:end_row+1])\n",
    "    data[column][start_row] = merged_content\n",
    "    del data[column][start_row+1:end_row+1]"
   ]
  },
  {
   "cell_type": "code",
   "execution_count": 82,
   "metadata": {},
   "outputs": [],
   "source": [
    "\n",
    "def docx_to_excel(docx_file, excel_file):\n",
    "    # 读取Word文档\n",
    "    doc = Document(docx_file)\n",
    "    doc_content = []\n",
    "\n",
    "    number_1 = 1\n",
    "    number_2 = 0\n",
    "\n",
    "    # 提取文档内容\n",
    "    for para in doc.paragraphs:\n",
    "        doc_content.append(para.text)\n",
    "\n",
    "    # 分割Word文档内容并创建DataFrame\n",
    "    data = {'A': [], 'B': []}\n",
    "    for content in doc_content:\n",
    "        check = check_word(content)\n",
    "        if(check):\n",
    "            continue\n",
    "        # word, definition = split_word_definition(content)\n",
    "        if(check_words(content)):\n",
    "            data['A'].append(content)\n",
    "        else:\n",
    "            data['B'].append(content)\n",
    "            data['A'].append('')\n",
    "            if '。'in content:\n",
    "                data['A'].pop()\n",
    "                merge_dict_cells(data,number_2,number_1,'A')\n",
    "                merge_dict_cells(data,number_2,number_1,'B')\n",
    "                number_1=number_2\n",
    "                number_2=number_2+1\n",
    "            number_1=number_1+1\n",
    "            \n",
    "           \n",
    "     # A列的行数\n",
    "    num_rows_A = len(data['A'])\n",
    "    # B列的行数\n",
    "    num_rows_B = len(data['B'])\n",
    "    \n",
    "    # print(\"A列的行数：\", num_rows_A)\n",
    "    # print(\"B列的行数：\", num_rows_B)\n",
    "    # for a in data['A']:\n",
    "        # print(a)\n",
    "    # for b in data['B']:\n",
    "        # print(b)\n",
    "    df = pd.DataFrame(data)\n",
    "\n",
    "    # 将DataFrame写入Excel文件\n",
    "    df.to_excel(excel_file, index=False)\n",
    "\n",
    "docx_to_excel('./doc/单词突围第1天.docx', '单词突围.xlsx')\n"
   ]
  }
 ],
 "metadata": {
  "kernelspec": {
   "display_name": "env",
   "language": "python",
   "name": "python3"
  },
  "language_info": {
   "codemirror_mode": {
    "name": "ipython",
    "version": 3
   },
   "file_extension": ".py",
   "mimetype": "text/x-python",
   "name": "python",
   "nbconvert_exporter": "python",
   "pygments_lexer": "ipython3",
   "version": "3.12.2"
  }
 },
 "nbformat": 4,
 "nbformat_minor": 2
}
